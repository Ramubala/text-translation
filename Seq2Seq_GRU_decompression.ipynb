{
  "cells": [
    {
      "cell_type": "markdown",
      "metadata": {
        "id": "view-in-github",
        "colab_type": "text"
      },
      "source": [
        "<a href=\"https://colab.research.google.com/github/Ramubala/text-translation/blob/main/Seq2Seq_GRU_decompression.ipynb\" target=\"_parent\"><img src=\"https://colab.research.google.com/assets/colab-badge.svg\" alt=\"Open In Colab\"/></a>"
      ]
    },
    {
      "cell_type": "code",
      "execution_count": 1,
      "metadata": {
        "id": "wsfWBukxnk9J"
      },
      "outputs": [],
      "source": [
        "#! git clone https://github.com/Ramubala/text-translation.git\n",
        "#%rm -rf '/content/text-translation'"
      ]
    },
    {
      "cell_type": "code",
      "source": [
        "# !pip install -q condacolab\n",
        "# import condacolab\n",
        "# condacolab.install()\n",
        "# !conda install cudnn=8.3.2"
      ],
      "metadata": {
        "id": "oY0XgEwOV7FU"
      },
      "execution_count": 2,
      "outputs": []
    },
    {
      "cell_type": "code",
      "execution_count": 3,
      "metadata": {
        "colab": {
          "base_uri": "https://localhost:8080/"
        },
        "id": "ZHW0tXIrntnS",
        "outputId": "e6defddf-6b5d-4298-ed02-9eeb41f30ce1"
      },
      "outputs": [
        {
          "output_type": "stream",
          "name": "stdout",
          "text": [
            "eng_-french.csv  \u001b[0m\u001b[01;34msample_data\u001b[0m/  translation_model_epoch_7.pt\n"
          ]
        }
      ],
      "source": [
        "%ls\n",
        "#%cd text-translation\n",
        "#!unzip eng_-french.csv.zip -d eng_-french"
      ]
    },
    {
      "cell_type": "code",
      "execution_count": 4,
      "metadata": {
        "colab": {
          "base_uri": "https://localhost:8080/",
          "height": 224
        },
        "id": "i6z0RfGdqzGJ",
        "outputId": "6e0d64ad-6fbd-444c-c0b2-091c9e3d16fd"
      },
      "outputs": [
        {
          "output_type": "stream",
          "name": "stdout",
          "text": [
            "(100000, 2)\n"
          ]
        },
        {
          "output_type": "execute_result",
          "data": {
            "text/plain": [
              "  English words/sentences French words/sentences\n",
              "0                     Hi.                 Salut!\n",
              "1                    Run!                Cours !\n",
              "2                    Run!               Courez !\n",
              "3                    Who?                  Qui ?\n",
              "4                    Wow!             Ça alors !"
            ],
            "text/html": [
              "\n",
              "  <div id=\"df-21e35b3c-b579-42db-8a4c-e12a68557154\">\n",
              "    <div class=\"colab-df-container\">\n",
              "      <div>\n",
              "<style scoped>\n",
              "    .dataframe tbody tr th:only-of-type {\n",
              "        vertical-align: middle;\n",
              "    }\n",
              "\n",
              "    .dataframe tbody tr th {\n",
              "        vertical-align: top;\n",
              "    }\n",
              "\n",
              "    .dataframe thead th {\n",
              "        text-align: right;\n",
              "    }\n",
              "</style>\n",
              "<table border=\"1\" class=\"dataframe\">\n",
              "  <thead>\n",
              "    <tr style=\"text-align: right;\">\n",
              "      <th></th>\n",
              "      <th>English words/sentences</th>\n",
              "      <th>French words/sentences</th>\n",
              "    </tr>\n",
              "  </thead>\n",
              "  <tbody>\n",
              "    <tr>\n",
              "      <th>0</th>\n",
              "      <td>Hi.</td>\n",
              "      <td>Salut!</td>\n",
              "    </tr>\n",
              "    <tr>\n",
              "      <th>1</th>\n",
              "      <td>Run!</td>\n",
              "      <td>Cours !</td>\n",
              "    </tr>\n",
              "    <tr>\n",
              "      <th>2</th>\n",
              "      <td>Run!</td>\n",
              "      <td>Courez !</td>\n",
              "    </tr>\n",
              "    <tr>\n",
              "      <th>3</th>\n",
              "      <td>Who?</td>\n",
              "      <td>Qui ?</td>\n",
              "    </tr>\n",
              "    <tr>\n",
              "      <th>4</th>\n",
              "      <td>Wow!</td>\n",
              "      <td>Ça alors !</td>\n",
              "    </tr>\n",
              "  </tbody>\n",
              "</table>\n",
              "</div>\n",
              "      <button class=\"colab-df-convert\" onclick=\"convertToInteractive('df-21e35b3c-b579-42db-8a4c-e12a68557154')\"\n",
              "              title=\"Convert this dataframe to an interactive table.\"\n",
              "              style=\"display:none;\">\n",
              "        \n",
              "  <svg xmlns=\"http://www.w3.org/2000/svg\" height=\"24px\"viewBox=\"0 0 24 24\"\n",
              "       width=\"24px\">\n",
              "    <path d=\"M0 0h24v24H0V0z\" fill=\"none\"/>\n",
              "    <path d=\"M18.56 5.44l.94 2.06.94-2.06 2.06-.94-2.06-.94-.94-2.06-.94 2.06-2.06.94zm-11 1L8.5 8.5l.94-2.06 2.06-.94-2.06-.94L8.5 2.5l-.94 2.06-2.06.94zm10 10l.94 2.06.94-2.06 2.06-.94-2.06-.94-.94-2.06-.94 2.06-2.06.94z\"/><path d=\"M17.41 7.96l-1.37-1.37c-.4-.4-.92-.59-1.43-.59-.52 0-1.04.2-1.43.59L10.3 9.45l-7.72 7.72c-.78.78-.78 2.05 0 2.83L4 21.41c.39.39.9.59 1.41.59.51 0 1.02-.2 1.41-.59l7.78-7.78 2.81-2.81c.8-.78.8-2.07 0-2.86zM5.41 20L4 18.59l7.72-7.72 1.47 1.35L5.41 20z\"/>\n",
              "  </svg>\n",
              "      </button>\n",
              "      \n",
              "  <style>\n",
              "    .colab-df-container {\n",
              "      display:flex;\n",
              "      flex-wrap:wrap;\n",
              "      gap: 12px;\n",
              "    }\n",
              "\n",
              "    .colab-df-convert {\n",
              "      background-color: #E8F0FE;\n",
              "      border: none;\n",
              "      border-radius: 50%;\n",
              "      cursor: pointer;\n",
              "      display: none;\n",
              "      fill: #1967D2;\n",
              "      height: 32px;\n",
              "      padding: 0 0 0 0;\n",
              "      width: 32px;\n",
              "    }\n",
              "\n",
              "    .colab-df-convert:hover {\n",
              "      background-color: #E2EBFA;\n",
              "      box-shadow: 0px 1px 2px rgba(60, 64, 67, 0.3), 0px 1px 3px 1px rgba(60, 64, 67, 0.15);\n",
              "      fill: #174EA6;\n",
              "    }\n",
              "\n",
              "    [theme=dark] .colab-df-convert {\n",
              "      background-color: #3B4455;\n",
              "      fill: #D2E3FC;\n",
              "    }\n",
              "\n",
              "    [theme=dark] .colab-df-convert:hover {\n",
              "      background-color: #434B5C;\n",
              "      box-shadow: 0px 1px 3px 1px rgba(0, 0, 0, 0.15);\n",
              "      filter: drop-shadow(0px 1px 2px rgba(0, 0, 0, 0.3));\n",
              "      fill: #FFFFFF;\n",
              "    }\n",
              "  </style>\n",
              "\n",
              "      <script>\n",
              "        const buttonEl =\n",
              "          document.querySelector('#df-21e35b3c-b579-42db-8a4c-e12a68557154 button.colab-df-convert');\n",
              "        buttonEl.style.display =\n",
              "          google.colab.kernel.accessAllowed ? 'block' : 'none';\n",
              "\n",
              "        async function convertToInteractive(key) {\n",
              "          const element = document.querySelector('#df-21e35b3c-b579-42db-8a4c-e12a68557154');\n",
              "          const dataTable =\n",
              "            await google.colab.kernel.invokeFunction('convertToInteractive',\n",
              "                                                     [key], {});\n",
              "          if (!dataTable) return;\n",
              "\n",
              "          const docLinkHtml = 'Like what you see? Visit the ' +\n",
              "            '<a target=\"_blank\" href=https://colab.research.google.com/notebooks/data_table.ipynb>data table notebook</a>'\n",
              "            + ' to learn more about interactive tables.';\n",
              "          element.innerHTML = '';\n",
              "          dataTable['output_type'] = 'display_data';\n",
              "          await google.colab.output.renderOutput(dataTable, element);\n",
              "          const docLink = document.createElement('div');\n",
              "          docLink.innerHTML = docLinkHtml;\n",
              "          element.appendChild(docLink);\n",
              "        }\n",
              "      </script>\n",
              "    </div>\n",
              "  </div>\n",
              "  "
            ]
          },
          "metadata": {},
          "execution_count": 4
        }
      ],
      "source": [
        "import pandas as pd\n",
        "data = pd.read_csv('/content/eng_-french.csv')\n",
        "data = data[:100000]\n",
        "print(data.shape)\n",
        "data.head()"
      ]
    },
    {
      "cell_type": "code",
      "execution_count": 5,
      "metadata": {
        "colab": {
          "base_uri": "https://localhost:8080/"
        },
        "id": "6hn6ngup5_sG",
        "outputId": "ed9f7967-81d8-42d2-bee6-c2e4da0d6924"
      },
      "outputs": [
        {
          "output_type": "execute_result",
          "data": {
            "text/plain": [
              "((100000, 2),\n",
              " Index(['English words/sentences', 'French words/sentences'], dtype='object'))"
            ]
          },
          "metadata": {},
          "execution_count": 5
        }
      ],
      "source": [
        "data.shape, data.columns"
      ]
    },
    {
      "cell_type": "markdown",
      "metadata": {
        "id": "fe8FSJ_eraJn"
      },
      "source": [
        "# Train a simple seq2seq model based on GRU"
      ]
    },
    {
      "cell_type": "markdown",
      "metadata": {
        "id": "WOOvfZlT1UlL"
      },
      "source": [
        "### Data Preparation"
      ]
    },
    {
      "cell_type": "code",
      "execution_count": 6,
      "metadata": {
        "id": "jjv1Z5kP1eYu"
      },
      "outputs": [],
      "source": [
        "# we use spacy tokenizers\n",
        "import spacy\n",
        "import torchtext as tt\n",
        "import collections\n",
        "import numpy as np\n",
        "from torchtext.vocab import vocab\n",
        "from torch.utils.data import DataLoader\n",
        "from torch.nn.utils.rnn import pad_sequence\n",
        "import torch\n",
        "import torch.nn as nn"
      ]
    },
    {
      "cell_type": "code",
      "execution_count": 7,
      "metadata": {
        "colab": {
          "base_uri": "https://localhost:8080/"
        },
        "id": "I_xRo4wV15ZZ",
        "outputId": "20ea5559-61d7-4226-e349-5d7809f1c0aa"
      },
      "outputs": [
        {
          "output_type": "stream",
          "name": "stdout",
          "text": [
            "2022-09-23 03:15:46.906189: E tensorflow/stream_executor/cuda/cuda_driver.cc:271] failed call to cuInit: CUDA_ERROR_NO_DEVICE: no CUDA-capable device is detected\n",
            "Looking in indexes: https://pypi.org/simple, https://us-python.pkg.dev/colab-wheels/public/simple/\n",
            "Collecting en-core-web-sm==3.4.0\n",
            "  Downloading https://github.com/explosion/spacy-models/releases/download/en_core_web_sm-3.4.0/en_core_web_sm-3.4.0-py3-none-any.whl (12.8 MB)\n",
            "\u001b[K     |████████████████████████████████| 12.8 MB 10.8 MB/s \n",
            "\u001b[?25hRequirement already satisfied: spacy<3.5.0,>=3.4.0 in /usr/local/lib/python3.7/dist-packages (from en-core-web-sm==3.4.0) (3.4.1)\n",
            "Requirement already satisfied: jinja2 in /usr/local/lib/python3.7/dist-packages (from spacy<3.5.0,>=3.4.0->en-core-web-sm==3.4.0) (2.11.3)\n",
            "Requirement already satisfied: typer<0.5.0,>=0.3.0 in /usr/local/lib/python3.7/dist-packages (from spacy<3.5.0,>=3.4.0->en-core-web-sm==3.4.0) (0.4.2)\n",
            "Requirement already satisfied: packaging>=20.0 in /usr/local/lib/python3.7/dist-packages (from spacy<3.5.0,>=3.4.0->en-core-web-sm==3.4.0) (21.3)\n",
            "Requirement already satisfied: murmurhash<1.1.0,>=0.28.0 in /usr/local/lib/python3.7/dist-packages (from spacy<3.5.0,>=3.4.0->en-core-web-sm==3.4.0) (1.0.8)\n",
            "Requirement already satisfied: pathy>=0.3.5 in /usr/local/lib/python3.7/dist-packages (from spacy<3.5.0,>=3.4.0->en-core-web-sm==3.4.0) (0.6.2)\n",
            "Requirement already satisfied: numpy>=1.15.0 in /usr/local/lib/python3.7/dist-packages (from spacy<3.5.0,>=3.4.0->en-core-web-sm==3.4.0) (1.21.6)\n",
            "Requirement already satisfied: pydantic!=1.8,!=1.8.1,<1.10.0,>=1.7.4 in /usr/local/lib/python3.7/dist-packages (from spacy<3.5.0,>=3.4.0->en-core-web-sm==3.4.0) (1.9.2)\n",
            "Requirement already satisfied: spacy-loggers<2.0.0,>=1.0.0 in /usr/local/lib/python3.7/dist-packages (from spacy<3.5.0,>=3.4.0->en-core-web-sm==3.4.0) (1.0.3)\n",
            "Requirement already satisfied: thinc<8.2.0,>=8.1.0 in /usr/local/lib/python3.7/dist-packages (from spacy<3.5.0,>=3.4.0->en-core-web-sm==3.4.0) (8.1.0)\n",
            "Requirement already satisfied: srsly<3.0.0,>=2.4.3 in /usr/local/lib/python3.7/dist-packages (from spacy<3.5.0,>=3.4.0->en-core-web-sm==3.4.0) (2.4.4)\n",
            "Requirement already satisfied: requests<3.0.0,>=2.13.0 in /usr/local/lib/python3.7/dist-packages (from spacy<3.5.0,>=3.4.0->en-core-web-sm==3.4.0) (2.23.0)\n",
            "Requirement already satisfied: setuptools in /usr/local/lib/python3.7/dist-packages (from spacy<3.5.0,>=3.4.0->en-core-web-sm==3.4.0) (57.4.0)\n",
            "Requirement already satisfied: typing-extensions<4.2.0,>=3.7.4 in /usr/local/lib/python3.7/dist-packages (from spacy<3.5.0,>=3.4.0->en-core-web-sm==3.4.0) (4.1.1)\n",
            "Requirement already satisfied: wasabi<1.1.0,>=0.9.1 in /usr/local/lib/python3.7/dist-packages (from spacy<3.5.0,>=3.4.0->en-core-web-sm==3.4.0) (0.10.1)\n",
            "Requirement already satisfied: tqdm<5.0.0,>=4.38.0 in /usr/local/lib/python3.7/dist-packages (from spacy<3.5.0,>=3.4.0->en-core-web-sm==3.4.0) (4.64.1)\n",
            "Requirement already satisfied: cymem<2.1.0,>=2.0.2 in /usr/local/lib/python3.7/dist-packages (from spacy<3.5.0,>=3.4.0->en-core-web-sm==3.4.0) (2.0.6)\n",
            "Requirement already satisfied: spacy-legacy<3.1.0,>=3.0.9 in /usr/local/lib/python3.7/dist-packages (from spacy<3.5.0,>=3.4.0->en-core-web-sm==3.4.0) (3.0.10)\n",
            "Requirement already satisfied: catalogue<2.1.0,>=2.0.6 in /usr/local/lib/python3.7/dist-packages (from spacy<3.5.0,>=3.4.0->en-core-web-sm==3.4.0) (2.0.8)\n",
            "Requirement already satisfied: preshed<3.1.0,>=3.0.2 in /usr/local/lib/python3.7/dist-packages (from spacy<3.5.0,>=3.4.0->en-core-web-sm==3.4.0) (3.0.7)\n",
            "Requirement already satisfied: langcodes<4.0.0,>=3.2.0 in /usr/local/lib/python3.7/dist-packages (from spacy<3.5.0,>=3.4.0->en-core-web-sm==3.4.0) (3.3.0)\n",
            "Requirement already satisfied: zipp>=0.5 in /usr/local/lib/python3.7/dist-packages (from catalogue<2.1.0,>=2.0.6->spacy<3.5.0,>=3.4.0->en-core-web-sm==3.4.0) (3.8.1)\n",
            "Requirement already satisfied: pyparsing!=3.0.5,>=2.0.2 in /usr/local/lib/python3.7/dist-packages (from packaging>=20.0->spacy<3.5.0,>=3.4.0->en-core-web-sm==3.4.0) (3.0.9)\n",
            "Requirement already satisfied: smart-open<6.0.0,>=5.2.1 in /usr/local/lib/python3.7/dist-packages (from pathy>=0.3.5->spacy<3.5.0,>=3.4.0->en-core-web-sm==3.4.0) (5.2.1)\n",
            "Requirement already satisfied: certifi>=2017.4.17 in /usr/local/lib/python3.7/dist-packages (from requests<3.0.0,>=2.13.0->spacy<3.5.0,>=3.4.0->en-core-web-sm==3.4.0) (2022.6.15)\n",
            "Requirement already satisfied: idna<3,>=2.5 in /usr/local/lib/python3.7/dist-packages (from requests<3.0.0,>=2.13.0->spacy<3.5.0,>=3.4.0->en-core-web-sm==3.4.0) (2.10)\n",
            "Requirement already satisfied: urllib3!=1.25.0,!=1.25.1,<1.26,>=1.21.1 in /usr/local/lib/python3.7/dist-packages (from requests<3.0.0,>=2.13.0->spacy<3.5.0,>=3.4.0->en-core-web-sm==3.4.0) (1.24.3)\n",
            "Requirement already satisfied: chardet<4,>=3.0.2 in /usr/local/lib/python3.7/dist-packages (from requests<3.0.0,>=2.13.0->spacy<3.5.0,>=3.4.0->en-core-web-sm==3.4.0) (3.0.4)\n",
            "Requirement already satisfied: blis<0.8.0,>=0.7.8 in /usr/local/lib/python3.7/dist-packages (from thinc<8.2.0,>=8.1.0->spacy<3.5.0,>=3.4.0->en-core-web-sm==3.4.0) (0.7.8)\n",
            "Requirement already satisfied: click<9.0.0,>=7.1.1 in /usr/local/lib/python3.7/dist-packages (from typer<0.5.0,>=0.3.0->spacy<3.5.0,>=3.4.0->en-core-web-sm==3.4.0) (7.1.2)\n",
            "Requirement already satisfied: MarkupSafe>=0.23 in /usr/local/lib/python3.7/dist-packages (from jinja2->spacy<3.5.0,>=3.4.0->en-core-web-sm==3.4.0) (2.0.1)\n",
            "\u001b[38;5;2m✔ Download and installation successful\u001b[0m\n",
            "You can now load the package via spacy.load('en_core_web_sm')\n",
            "2022-09-23 03:16:00.242115: E tensorflow/stream_executor/cuda/cuda_driver.cc:271] failed call to cuInit: CUDA_ERROR_NO_DEVICE: no CUDA-capable device is detected\n",
            "Looking in indexes: https://pypi.org/simple, https://us-python.pkg.dev/colab-wheels/public/simple/\n",
            "Collecting fr-core-news-sm==3.4.0\n",
            "  Downloading https://github.com/explosion/spacy-models/releases/download/fr_core_news_sm-3.4.0/fr_core_news_sm-3.4.0-py3-none-any.whl (16.3 MB)\n",
            "\u001b[K     |████████████████████████████████| 16.3 MB 1.4 MB/s \n",
            "\u001b[?25hRequirement already satisfied: spacy<3.5.0,>=3.4.0 in /usr/local/lib/python3.7/dist-packages (from fr-core-news-sm==3.4.0) (3.4.1)\n",
            "Requirement already satisfied: wasabi<1.1.0,>=0.9.1 in /usr/local/lib/python3.7/dist-packages (from spacy<3.5.0,>=3.4.0->fr-core-news-sm==3.4.0) (0.10.1)\n",
            "Requirement already satisfied: preshed<3.1.0,>=3.0.2 in /usr/local/lib/python3.7/dist-packages (from spacy<3.5.0,>=3.4.0->fr-core-news-sm==3.4.0) (3.0.7)\n",
            "Requirement already satisfied: langcodes<4.0.0,>=3.2.0 in /usr/local/lib/python3.7/dist-packages (from spacy<3.5.0,>=3.4.0->fr-core-news-sm==3.4.0) (3.3.0)\n",
            "Requirement already satisfied: tqdm<5.0.0,>=4.38.0 in /usr/local/lib/python3.7/dist-packages (from spacy<3.5.0,>=3.4.0->fr-core-news-sm==3.4.0) (4.64.1)\n",
            "Requirement already satisfied: pydantic!=1.8,!=1.8.1,<1.10.0,>=1.7.4 in /usr/local/lib/python3.7/dist-packages (from spacy<3.5.0,>=3.4.0->fr-core-news-sm==3.4.0) (1.9.2)\n",
            "Requirement already satisfied: packaging>=20.0 in /usr/local/lib/python3.7/dist-packages (from spacy<3.5.0,>=3.4.0->fr-core-news-sm==3.4.0) (21.3)\n",
            "Requirement already satisfied: typing-extensions<4.2.0,>=3.7.4 in /usr/local/lib/python3.7/dist-packages (from spacy<3.5.0,>=3.4.0->fr-core-news-sm==3.4.0) (4.1.1)\n",
            "Requirement already satisfied: thinc<8.2.0,>=8.1.0 in /usr/local/lib/python3.7/dist-packages (from spacy<3.5.0,>=3.4.0->fr-core-news-sm==3.4.0) (8.1.0)\n",
            "Requirement already satisfied: pathy>=0.3.5 in /usr/local/lib/python3.7/dist-packages (from spacy<3.5.0,>=3.4.0->fr-core-news-sm==3.4.0) (0.6.2)\n",
            "Requirement already satisfied: spacy-loggers<2.0.0,>=1.0.0 in /usr/local/lib/python3.7/dist-packages (from spacy<3.5.0,>=3.4.0->fr-core-news-sm==3.4.0) (1.0.3)\n",
            "Requirement already satisfied: murmurhash<1.1.0,>=0.28.0 in /usr/local/lib/python3.7/dist-packages (from spacy<3.5.0,>=3.4.0->fr-core-news-sm==3.4.0) (1.0.8)\n",
            "Requirement already satisfied: cymem<2.1.0,>=2.0.2 in /usr/local/lib/python3.7/dist-packages (from spacy<3.5.0,>=3.4.0->fr-core-news-sm==3.4.0) (2.0.6)\n",
            "Requirement already satisfied: requests<3.0.0,>=2.13.0 in /usr/local/lib/python3.7/dist-packages (from spacy<3.5.0,>=3.4.0->fr-core-news-sm==3.4.0) (2.23.0)\n",
            "Requirement already satisfied: catalogue<2.1.0,>=2.0.6 in /usr/local/lib/python3.7/dist-packages (from spacy<3.5.0,>=3.4.0->fr-core-news-sm==3.4.0) (2.0.8)\n",
            "Requirement already satisfied: srsly<3.0.0,>=2.4.3 in /usr/local/lib/python3.7/dist-packages (from spacy<3.5.0,>=3.4.0->fr-core-news-sm==3.4.0) (2.4.4)\n",
            "Requirement already satisfied: typer<0.5.0,>=0.3.0 in /usr/local/lib/python3.7/dist-packages (from spacy<3.5.0,>=3.4.0->fr-core-news-sm==3.4.0) (0.4.2)\n",
            "Requirement already satisfied: setuptools in /usr/local/lib/python3.7/dist-packages (from spacy<3.5.0,>=3.4.0->fr-core-news-sm==3.4.0) (57.4.0)\n",
            "Requirement already satisfied: numpy>=1.15.0 in /usr/local/lib/python3.7/dist-packages (from spacy<3.5.0,>=3.4.0->fr-core-news-sm==3.4.0) (1.21.6)\n",
            "Requirement already satisfied: spacy-legacy<3.1.0,>=3.0.9 in /usr/local/lib/python3.7/dist-packages (from spacy<3.5.0,>=3.4.0->fr-core-news-sm==3.4.0) (3.0.10)\n",
            "Requirement already satisfied: jinja2 in /usr/local/lib/python3.7/dist-packages (from spacy<3.5.0,>=3.4.0->fr-core-news-sm==3.4.0) (2.11.3)\n",
            "Requirement already satisfied: zipp>=0.5 in /usr/local/lib/python3.7/dist-packages (from catalogue<2.1.0,>=2.0.6->spacy<3.5.0,>=3.4.0->fr-core-news-sm==3.4.0) (3.8.1)\n",
            "Requirement already satisfied: pyparsing!=3.0.5,>=2.0.2 in /usr/local/lib/python3.7/dist-packages (from packaging>=20.0->spacy<3.5.0,>=3.4.0->fr-core-news-sm==3.4.0) (3.0.9)\n",
            "Requirement already satisfied: smart-open<6.0.0,>=5.2.1 in /usr/local/lib/python3.7/dist-packages (from pathy>=0.3.5->spacy<3.5.0,>=3.4.0->fr-core-news-sm==3.4.0) (5.2.1)\n",
            "Requirement already satisfied: urllib3!=1.25.0,!=1.25.1,<1.26,>=1.21.1 in /usr/local/lib/python3.7/dist-packages (from requests<3.0.0,>=2.13.0->spacy<3.5.0,>=3.4.0->fr-core-news-sm==3.4.0) (1.24.3)\n",
            "Requirement already satisfied: chardet<4,>=3.0.2 in /usr/local/lib/python3.7/dist-packages (from requests<3.0.0,>=2.13.0->spacy<3.5.0,>=3.4.0->fr-core-news-sm==3.4.0) (3.0.4)\n",
            "Requirement already satisfied: idna<3,>=2.5 in /usr/local/lib/python3.7/dist-packages (from requests<3.0.0,>=2.13.0->spacy<3.5.0,>=3.4.0->fr-core-news-sm==3.4.0) (2.10)\n",
            "Requirement already satisfied: certifi>=2017.4.17 in /usr/local/lib/python3.7/dist-packages (from requests<3.0.0,>=2.13.0->spacy<3.5.0,>=3.4.0->fr-core-news-sm==3.4.0) (2022.6.15)\n",
            "Requirement already satisfied: blis<0.8.0,>=0.7.8 in /usr/local/lib/python3.7/dist-packages (from thinc<8.2.0,>=8.1.0->spacy<3.5.0,>=3.4.0->fr-core-news-sm==3.4.0) (0.7.8)\n",
            "Requirement already satisfied: click<9.0.0,>=7.1.1 in /usr/local/lib/python3.7/dist-packages (from typer<0.5.0,>=0.3.0->spacy<3.5.0,>=3.4.0->fr-core-news-sm==3.4.0) (7.1.2)\n",
            "Requirement already satisfied: MarkupSafe>=0.23 in /usr/local/lib/python3.7/dist-packages (from jinja2->spacy<3.5.0,>=3.4.0->fr-core-news-sm==3.4.0) (2.0.1)\n",
            "Installing collected packages: fr-core-news-sm\n",
            "Successfully installed fr-core-news-sm-3.4.0\n",
            "\u001b[38;5;2m✔ Download and installation successful\u001b[0m\n",
            "You can now load the package via spacy.load('fr_core_news_sm')\n"
          ]
        }
      ],
      "source": [
        "!python -m spacy download en_core_web_sm\n",
        "!python -m spacy download fr_core_news_sm\n",
        "english_tokenizer = spacy.load('en_core_web_sm')\n",
        "french_tokenizer = spacy.load('fr_core_news_sm')"
      ]
    },
    {
      "cell_type": "code",
      "execution_count": 8,
      "metadata": {
        "id": "yu-YL6aS3fy-"
      },
      "outputs": [],
      "source": [
        "def make_vocab(df: pd.Series, tokenizer):\n",
        "  counter_obj = collections.Counter()\n",
        "  for item in df:\n",
        "    line = item.strip()\n",
        "    tokenized_words = [token.text for token in tokenizer(line)]\n",
        "    counter_obj.update(tokenized_words)\n",
        "  return vocab(counter_obj, min_freq = 1, specials=['<unk>', '<pad>', '<bos>', '<eos>'])"
      ]
    },
    {
      "cell_type": "code",
      "execution_count": 9,
      "metadata": {
        "id": "rkIiZZln4Ww8"
      },
      "outputs": [],
      "source": [
        "en_vocab = make_vocab(data.loc[:,'English words/sentences'], english_tokenizer)\n",
        "fr_vocab = make_vocab(data.loc[:,'French words/sentences'], french_tokenizer)"
      ]
    },
    {
      "cell_type": "code",
      "execution_count": 10,
      "metadata": {
        "colab": {
          "base_uri": "https://localhost:8080/"
        },
        "id": "FDURL3T_7hP5",
        "outputId": "01e3dab8-b2db-49a3-b8c3-68e19aed740f"
      },
      "outputs": [
        {
          "output_type": "execute_result",
          "data": {
            "text/plain": [
              "((60000, 2), (20000, 2), (20000, 2))"
            ]
          },
          "metadata": {},
          "execution_count": 10
        }
      ],
      "source": [
        "#train, test, val split\n",
        "train, validate, test = np.split(data.sample(frac=1, random_state=42), [int(.6*len(data)), int(.8*len(data))])\n",
        "train.reset_index(drop=True,inplace=True)\n",
        "validate.reset_index(drop=True,inplace=True)\n",
        "test.reset_index(drop=True,inplace=True)\n",
        "\n",
        "train.shape, validate.shape, test.shape"
      ]
    },
    {
      "cell_type": "code",
      "execution_count": 11,
      "metadata": {
        "id": "t74h-zMadYSk"
      },
      "outputs": [],
      "source": [
        "bos_id = en_vocab.__getitem__('<bos>')\n",
        "eos_id = en_vocab.__getitem__('<eos>')\n",
        "pad_id = en_vocab.__getitem__('<pad>')"
      ]
    },
    {
      "cell_type": "code",
      "execution_count": 12,
      "metadata": {
        "colab": {
          "base_uri": "https://localhost:8080/"
        },
        "id": "qfgDXFIAU5AH",
        "outputId": "fe192d33-9467-4c0f-c736-bfe6f51aed76"
      },
      "outputs": [
        {
          "output_type": "execute_result",
          "data": {
            "text/plain": [
              "(3, 1)"
            ]
          },
          "metadata": {},
          "execution_count": 12
        }
      ],
      "source": [
        "eos_id, pad_id"
      ]
    },
    {
      "cell_type": "code",
      "execution_count": 13,
      "metadata": {
        "id": "uGjihFUYeYd_"
      },
      "outputs": [],
      "source": [
        "def prepare_source_target(df):\n",
        "  tuple_list = []\n",
        "  for i in range(len(df)):\n",
        "    eng_sentence = df.loc[i,'English words/sentences'].strip()\n",
        "    french_sentence = df.loc[i,'French words/sentences'].strip()\n",
        "    src = torch.tensor([en_vocab.__getitem__(token.text) for token in english_tokenizer(eng_sentence)])\n",
        "    target = torch.tensor([fr_vocab.__getitem__(token.text) for token in french_tokenizer(french_sentence)])\n",
        "    tuple_list.append((src, target))\n",
        "  return tuple_list\n",
        "\n",
        "train_data = prepare_source_target(train)\n",
        "val_data = prepare_source_target(validate)\n",
        "test_data = prepare_source_target(test)"
      ]
    },
    {
      "cell_type": "code",
      "execution_count": 14,
      "metadata": {
        "id": "1qnRRGwu6Ilp"
      },
      "outputs": [],
      "source": [
        "# prepare dataloaders\n",
        "def collate_fn(batch_sampler_data):\n",
        "  src_batch = []\n",
        "  target_batch =[] \n",
        "  for i,(src, target) in enumerate(batch_sampler_data):\n",
        "    src_tensor = torch.tensor(torch.cat([torch.tensor([bos_id]), src, torch.tensor([eos_id])], dim=0))\n",
        "    target_tensor = torch.tensor(torch.cat([torch.tensor([bos_id]), target, torch.tensor([eos_id])], dim=0))\n",
        "    src_batch.append(src_tensor)\n",
        "    target_batch.append(target_tensor)\n",
        "  src_batch = pad_sequence(src_batch, padding_value=pad_id)\n",
        "  target_batch = pad_sequence(target_batch, padding_value=pad_id)\n",
        "\n",
        "  return src_batch, target_batch\n",
        "\n",
        "train_dataloader = DataLoader(train_data,batch_size=128, shuffle=True,collate_fn=collate_fn)\n",
        "val_dataloader = DataLoader(val_data,batch_size=128, shuffle=True,collate_fn=collate_fn)\n",
        "test_dataloader = DataLoader(test_data,batch_size=128, shuffle=True,collate_fn=collate_fn)"
      ]
    },
    {
      "cell_type": "code",
      "execution_count": 15,
      "metadata": {
        "id": "CLOGbBuBrpZl"
      },
      "outputs": [],
      "source": [
        "class Encoder(torch.nn.Module):\n",
        "  def __init__(self, embedding_size: int, vocab_size : int, gru_layers: int):\n",
        "    super().__init__()\n",
        "    self.embedding_size = embedding_size\n",
        "    self.hidden_size = 2*self.embedding_size\n",
        "    self.embedding = nn.Embedding(num_embeddings=vocab_size, embedding_dim=self.embedding_size)\n",
        "    self.GRU = nn.GRU(input_size=self.embedding_size, hidden_size=self.hidden_size,num_layers=gru_layers)\n",
        "\n",
        "  def forward(self, src_batch):\n",
        "    # src_len*batch_size\n",
        "    src_embedding = self.embedding(src_batch)\n",
        "    #print(\"Encoder:: src embedding shape: {}\".format(src_embedding.shape))\n",
        "    # src_len*batch_size* embedding_dim\n",
        "    output, hidden = self.GRU(src_embedding)\n",
        "    #print(\"Encoder:: output shape: {}, hidden shape {}\".format(output.shape, hidden.shape))\n",
        "    return hidden, output"
      ]
    },
    {
      "cell_type": "code",
      "execution_count": 16,
      "metadata": {
        "id": "ENTUfN4bvXNx"
      },
      "outputs": [],
      "source": [
        "class Decoder(torch.nn.Module):\n",
        "  def __init__(self, embedding_size: int, target_vocab_size : int, gru_layers: int):\n",
        "    super().__init__()\n",
        "    self.embedding_size = embedding_size\n",
        "    self.hidden_size = 2*self.embedding_size\n",
        "    self.output_size = self.hidden_size\n",
        "    self.embedding = nn.Embedding(num_embeddings=target_vocab_size, embedding_dim=self.embedding_size)\n",
        "    self.GRU = nn.GRU(input_size=self.embedding_size+self.hidden_size, hidden_size=self.hidden_size,num_layers=gru_layers)\n",
        "    self.output_layer = nn.Linear(in_features=self.embedding_size+2*self.hidden_size,out_features=target_vocab_size)\n",
        "\n",
        "  def forward(self, hidden, previous_prediction, context):\n",
        "    word_embedding = self.embedding(previous_prediction)\n",
        "    word_embedding = torch.unsqueeze(word_embedding, dim=0)\n",
        "    #print(\"Decoder:: src embedding shape: {}\".format(word_embedding.shape))\n",
        "    # 1*batch_size*embedding_length\n",
        "    #print(word_embedding.shape, context.shape)\n",
        "    concat_embedding_context = torch.cat((word_embedding, context), dim=2)\n",
        "    # 1*batch_size*(embedding_length+hidden_dim)\n",
        "    output, hidden = self.GRU(concat_embedding_context, hidden)\n",
        "    #print(\"Decoder:: output shape: {}, hidden shape {}\".format(output.shape, hidden.shape))\n",
        "    # output shape == (1,batch_size,hidden_dim)\n",
        "    # hidden shape == (num_layers*num_directions,batch_size, hidden_dim)\n",
        "    output = torch.concat((output, concat_embedding_context),dim=2)\n",
        "    output = self.output_layer(output.squeeze(0))\n",
        "    #print(\"Decoder:: output shape: {} after linear layer\".format(output.shape))\n",
        "    # 1*batch_size*target_vocab_size\n",
        "    return output, hidden"
      ]
    },
    {
      "cell_type": "code",
      "execution_count": 17,
      "metadata": {
        "id": "AlTxrktp4pXU"
      },
      "outputs": [],
      "source": [
        "import random\n",
        "class Seq2Seq(torch.nn.Module):\n",
        "  def __init__(self):\n",
        "    super().__init__()\n",
        "    self.encoder = Encoder(embedding_size=100, vocab_size=len(en_vocab), gru_layers=1)\n",
        "    self.decoder = Decoder(embedding_size=100, target_vocab_size=len(fr_vocab), gru_layers=1)\n",
        "\n",
        "  def forward(self, src_batch, target_batch, teacher_forcing_ratio: int):\n",
        "    hidden, output = self.encoder(src_batch)\n",
        "    context = hidden\n",
        "\n",
        "    # output_shape: src_len*num_directions, batch_size, hidden_dim\n",
        "    # hidden: num_layers*num_directions,batch_size, hidden_dim\n",
        "\n",
        "    batch_size = src_batch.shape[1]\n",
        "    src_length = src_batch.shape[0]\n",
        "    max_len = target_batch.shape[0]\n",
        "\n",
        "    final_decoder_output = torch.zeros(size=(max_len, batch_size, len(fr_vocab)), device= device)\n",
        "    input = target_batch[0,:]\n",
        "    for i in range(1,max_len):\n",
        "      decoder_output, hidden = self.decoder(hidden, input, context)\n",
        "      # decoder_output: 1*batch_size*target_vocab_size\n",
        "      random_probab = random.random() > teacher_forcing_ratio\n",
        "      prediction_word = decoder_output.argmax(dim=1)\n",
        "      final_decoder_output[i,:,:] = decoder_output  \n",
        "      input = prediction_word if random_probab else target_batch[i,:]\n",
        "      input = input.squeeze()\n",
        "    return final_decoder_output"
      ]
    },
    {
      "cell_type": "code",
      "execution_count": 20,
      "metadata": {
        "colab": {
          "base_uri": "https://localhost:8080/"
        },
        "id": "oz5NCLMWDV6i",
        "outputId": "10cac604-f55e-4b5e-97dc-c50c76d61e81"
      },
      "outputs": [
        {
          "output_type": "stream",
          "name": "stdout",
          "text": [
            "cpu\n"
          ]
        },
        {
          "output_type": "execute_result",
          "data": {
            "text/plain": [
              "Seq2Seq(\n",
              "  (encoder): Encoder(\n",
              "    (embedding): Embedding(9644, 100)\n",
              "    (GRU): GRU(100, 200)\n",
              "  )\n",
              "  (decoder): Decoder(\n",
              "    (embedding): Embedding(17025, 100)\n",
              "    (GRU): GRU(300, 200)\n",
              "    (output_layer): Linear(in_features=500, out_features=17025, bias=True)\n",
              "  )\n",
              ")"
            ]
          },
          "metadata": {},
          "execution_count": 20
        }
      ],
      "source": [
        "device = torch.device(\"cuda:0\" if torch.cuda.is_available() else \"cpu\")\n",
        "print(device)\n",
        "model = Seq2Seq().to(device)\n",
        "\n",
        "def init_weights(m):\n",
        "    for name, param in m.named_parameters():\n",
        "        nn.init.uniform_(param.data, -0.05, 0.05)\n",
        "        \n",
        "model.apply(init_weights)"
      ]
    },
    {
      "cell_type": "code",
      "execution_count": null,
      "metadata": {
        "id": "9so7L3aI_pNz"
      },
      "outputs": [],
      "source": [
        "# define criterion and optimizer\n",
        "import torch.optim as optim\n",
        "\n",
        "criterion = nn.CrossEntropyLoss(ignore_index = pad_id)\n",
        "optimizer = optim.Adam(model.parameters())"
      ]
    },
    {
      "cell_type": "code",
      "execution_count": null,
      "metadata": {
        "id": "9bxOTP-3Exvn"
      },
      "outputs": [],
      "source": [
        "def train_model(dataloader):\n",
        "  clip = 0.1\n",
        "  model.train()\n",
        "  epoch_loss = 0\n",
        "\n",
        "  for i, (src_batch, target_batch) in enumerate(dataloader):\n",
        "    prediction = model(src_batch=src_batch.cuda(), target_batch=target_batch.cuda(), teacher_forcing_ratio=0.7)\n",
        "    prediction = prediction[1:].view(-1, len(fr_vocab))\n",
        "    target_batch = target_batch[1:].view(-1).cuda()\n",
        "    loss = criterion(prediction, target_batch)\n",
        "    loss.backward()\n",
        "    torch.nn.utils.clip_grad_norm_(model.parameters(), clip)\n",
        "    optimizer.step()\n",
        "    epoch_loss += loss.item()\n",
        "  \n",
        "  return epoch_loss / len(dataloader)"
      ]
    },
    {
      "cell_type": "code",
      "execution_count": null,
      "metadata": {
        "id": "Z5y8OF-IDA3j"
      },
      "outputs": [],
      "source": [
        "def eval_model(dataloader):\n",
        "  model.eval()\n",
        "  epoch_loss = 0\n",
        "\n",
        "  for i, (src_batch, target_batch) in enumerate(dataloader):\n",
        "    prediction = model(src_batch=src_batch.cuda(), target_batch=target_batch.cuda(), teacher_forcing_ratio=0)\n",
        "    prediction = prediction[1:].view(-1, len(fr_vocab))\n",
        "    target_batch = target_batch[1:].view(-1).cuda()\n",
        "    loss = criterion(prediction, target_batch)\n",
        "    #loss.backward()\n",
        "    #optimizer.step()\n",
        "    epoch_loss += loss.item()\n",
        "  \n",
        "  return epoch_loss / len(dataloader)"
      ]
    },
    {
      "cell_type": "code",
      "execution_count": null,
      "metadata": {
        "colab": {
          "base_uri": "https://localhost:8080/",
          "height": 1000
        },
        "id": "yR8JWPH_DWGV",
        "outputId": "c9871568-f228-471d-e6e4-259b667a7cdb"
      },
      "outputs": [
        {
          "output_type": "stream",
          "name": "stderr",
          "text": [
            "/usr/local/lib/python3.7/dist-packages/ipykernel_launcher.py:6: UserWarning: To copy construct from a tensor, it is recommended to use sourceTensor.clone().detach() or sourceTensor.clone().detach().requires_grad_(True), rather than torch.tensor(sourceTensor).\n",
            "  \n",
            "/usr/local/lib/python3.7/dist-packages/ipykernel_launcher.py:7: UserWarning: To copy construct from a tensor, it is recommended to use sourceTensor.clone().detach() or sourceTensor.clone().detach().requires_grad_(True), rather than torch.tensor(sourceTensor).\n",
            "  import sys\n"
          ]
        },
        {
          "output_type": "stream",
          "name": "stdout",
          "text": [
            "Epoch: 01 | Time: 0m 33s\n",
            "\tTrain Loss: 4.519 | Train PPL:  91.705\n",
            "\t Val. Loss: 4.481 |  Val. PPL:  88.338\n",
            "Epoch: 02 | Time: 0m 33s\n",
            "\tTrain Loss: 3.174 | Train PPL:  23.906\n",
            "\t Val. Loss: 4.102 |  Val. PPL:  60.439\n",
            "Epoch: 03 | Time: 0m 33s\n",
            "\tTrain Loss: 2.560 | Train PPL:  12.936\n",
            "\t Val. Loss: 3.700 |  Val. PPL:  40.455\n",
            "Epoch: 04 | Time: 0m 33s\n",
            "\tTrain Loss: 2.072 | Train PPL:   7.942\n",
            "\t Val. Loss: 3.430 |  Val. PPL:  30.864\n",
            "Epoch: 05 | Time: 0m 33s\n",
            "\tTrain Loss: 1.697 | Train PPL:   5.457\n",
            "\t Val. Loss: 3.239 |  Val. PPL:  25.511\n",
            "Epoch: 06 | Time: 0m 33s\n",
            "\tTrain Loss: 1.395 | Train PPL:   4.035\n",
            "\t Val. Loss: 3.159 |  Val. PPL:  23.540\n",
            "Epoch: 07 | Time: 0m 34s\n",
            "\tTrain Loss: 1.180 | Train PPL:   3.256\n",
            "\t Val. Loss: 3.120 |  Val. PPL:  22.642\n",
            "Epoch: 08 | Time: 0m 34s\n",
            "\tTrain Loss: 1.006 | Train PPL:   2.735\n",
            "\t Val. Loss: 3.106 |  Val. PPL:  22.322\n",
            "Epoch: 09 | Time: 0m 34s\n",
            "\tTrain Loss: 0.888 | Train PPL:   2.431\n",
            "\t Val. Loss: 3.124 |  Val. PPL:  22.729\n",
            "Epoch: 10 | Time: 0m 34s\n",
            "\tTrain Loss: 0.787 | Train PPL:   2.196\n",
            "\t Val. Loss: 3.143 |  Val. PPL:  23.182\n",
            "Epoch: 11 | Time: 0m 34s\n",
            "\tTrain Loss: 0.697 | Train PPL:   2.008\n",
            "\t Val. Loss: 3.205 |  Val. PPL:  24.648\n",
            "Epoch: 12 | Time: 0m 34s\n",
            "\tTrain Loss: 0.633 | Train PPL:   1.883\n",
            "\t Val. Loss: 3.250 |  Val. PPL:  25.787\n",
            "Epoch: 13 | Time: 0m 34s\n",
            "\tTrain Loss: 0.585 | Train PPL:   1.794\n",
            "\t Val. Loss: 3.273 |  Val. PPL:  26.383\n",
            "Epoch: 14 | Time: 0m 34s\n",
            "\tTrain Loss: 0.534 | Train PPL:   1.706\n",
            "\t Val. Loss: 3.309 |  Val. PPL:  27.364\n",
            "Epoch: 15 | Time: 0m 33s\n",
            "\tTrain Loss: 0.496 | Train PPL:   1.642\n",
            "\t Val. Loss: 3.388 |  Val. PPL:  29.619\n",
            "Epoch: 16 | Time: 0m 33s\n",
            "\tTrain Loss: 0.465 | Train PPL:   1.592\n",
            "\t Val. Loss: 3.400 |  Val. PPL:  29.955\n",
            "Epoch: 17 | Time: 0m 33s\n",
            "\tTrain Loss: 0.438 | Train PPL:   1.550\n",
            "\t Val. Loss: 3.490 |  Val. PPL:  32.789\n",
            "Epoch: 18 | Time: 0m 34s\n",
            "\tTrain Loss: 0.413 | Train PPL:   1.512\n",
            "\t Val. Loss: 3.563 |  Val. PPL:  35.260\n",
            "Epoch: 19 | Time: 0m 33s\n",
            "\tTrain Loss: 0.393 | Train PPL:   1.481\n",
            "\t Val. Loss: 3.637 |  Val. PPL:  37.966\n",
            "Epoch: 20 | Time: 0m 33s\n",
            "\tTrain Loss: 0.376 | Train PPL:   1.456\n",
            "\t Val. Loss: 3.631 |  Val. PPL:  37.764\n",
            "Epoch: 21 | Time: 0m 33s\n",
            "\tTrain Loss: 0.358 | Train PPL:   1.431\n",
            "\t Val. Loss: 3.671 |  Val. PPL:  39.297\n",
            "Epoch: 22 | Time: 0m 33s\n",
            "\tTrain Loss: 0.349 | Train PPL:   1.418\n",
            "\t Val. Loss: 3.733 |  Val. PPL:  41.824\n",
            "Epoch: 23 | Time: 0m 34s\n",
            "\tTrain Loss: 0.335 | Train PPL:   1.397\n",
            "\t Val. Loss: 3.819 |  Val. PPL:  45.553\n",
            "Epoch: 24 | Time: 0m 33s\n",
            "\tTrain Loss: 0.326 | Train PPL:   1.385\n",
            "\t Val. Loss: 3.853 |  Val. PPL:  47.121\n",
            "Epoch: 25 | Time: 0m 34s\n",
            "\tTrain Loss: 0.313 | Train PPL:   1.368\n",
            "\t Val. Loss: 3.892 |  Val. PPL:  48.991\n",
            "Epoch: 26 | Time: 0m 33s\n",
            "\tTrain Loss: 0.311 | Train PPL:   1.365\n",
            "\t Val. Loss: 3.866 |  Val. PPL:  47.772\n",
            "Epoch: 27 | Time: 0m 33s\n",
            "\tTrain Loss: 0.300 | Train PPL:   1.350\n",
            "\t Val. Loss: 3.967 |  Val. PPL:  52.821\n",
            "Epoch: 28 | Time: 0m 33s\n",
            "\tTrain Loss: 0.299 | Train PPL:   1.349\n",
            "\t Val. Loss: 4.008 |  Val. PPL:  55.010\n",
            "Epoch: 29 | Time: 0m 34s\n",
            "\tTrain Loss: 0.294 | Train PPL:   1.342\n",
            "\t Val. Loss: 4.025 |  Val. PPL:  55.969\n",
            "Epoch: 30 | Time: 0m 34s\n",
            "\tTrain Loss: 0.288 | Train PPL:   1.334\n",
            "\t Val. Loss: 4.069 |  Val. PPL:  58.519\n",
            "Epoch: 31 | Time: 0m 34s\n",
            "\tTrain Loss: 0.283 | Train PPL:   1.327\n",
            "\t Val. Loss: 4.074 |  Val. PPL:  58.805\n",
            "Epoch: 32 | Time: 0m 34s\n",
            "\tTrain Loss: 0.280 | Train PPL:   1.323\n",
            "\t Val. Loss: 4.112 |  Val. PPL:  61.058\n",
            "Epoch: 33 | Time: 0m 34s\n",
            "\tTrain Loss: 0.272 | Train PPL:   1.313\n",
            "\t Val. Loss: 4.143 |  Val. PPL:  63.014\n",
            "Epoch: 34 | Time: 0m 34s\n",
            "\tTrain Loss: 0.272 | Train PPL:   1.312\n",
            "\t Val. Loss: 4.164 |  Val. PPL:  64.310\n"
          ]
        },
        {
          "output_type": "stream",
          "name": "stderr",
          "text": [
            "ERROR:root:Internal Python error in the inspect module.\n",
            "Below is the traceback from this internal error.\n",
            "\n"
          ]
        },
        {
          "output_type": "stream",
          "name": "stdout",
          "text": [
            "Traceback (most recent call last):\n",
            "  File \"/usr/local/lib/python3.7/dist-packages/IPython/core/interactiveshell.py\", line 3326, in run_code\n",
            "    exec(code_obj, self.user_global_ns, self.user_ns)\n",
            "  File \"<ipython-input-210-c80e6b670f66>\", line 18, in <module>\n",
            "    train_loss = train_model(dataloader = train_dataloader)\n",
            "  File \"<ipython-input-208-617dab170ab4>\", line 14, in train_model\n",
            "    epoch_loss += loss.item()\n",
            "KeyboardInterrupt\n",
            "\n",
            "During handling of the above exception, another exception occurred:\n",
            "\n",
            "Traceback (most recent call last):\n",
            "  File \"/usr/local/lib/python3.7/dist-packages/IPython/core/interactiveshell.py\", line 2040, in showtraceback\n",
            "    stb = value._render_traceback_()\n",
            "AttributeError: 'KeyboardInterrupt' object has no attribute '_render_traceback_'\n",
            "\n",
            "During handling of the above exception, another exception occurred:\n",
            "\n",
            "Traceback (most recent call last):\n",
            "  File \"/usr/local/lib/python3.7/dist-packages/IPython/core/ultratb.py\", line 1101, in get_records\n",
            "    return _fixed_getinnerframes(etb, number_of_lines_of_context, tb_offset)\n",
            "  File \"/usr/local/lib/python3.7/dist-packages/IPython/core/ultratb.py\", line 319, in wrapped\n",
            "    return f(*args, **kwargs)\n",
            "  File \"/usr/local/lib/python3.7/dist-packages/IPython/core/ultratb.py\", line 353, in _fixed_getinnerframes\n",
            "    records = fix_frame_records_filenames(inspect.getinnerframes(etb, context))\n",
            "  File \"/usr/lib/python3.7/inspect.py\", line 1502, in getinnerframes\n",
            "    frameinfo = (tb.tb_frame,) + getframeinfo(tb, context)\n",
            "  File \"/usr/lib/python3.7/inspect.py\", line 1460, in getframeinfo\n",
            "    filename = getsourcefile(frame) or getfile(frame)\n",
            "  File \"/usr/lib/python3.7/inspect.py\", line 696, in getsourcefile\n",
            "    if getattr(getmodule(object, filename), '__loader__', None) is not None:\n",
            "  File \"/usr/lib/python3.7/inspect.py\", line 725, in getmodule\n",
            "    file = getabsfile(object, _filename)\n",
            "  File \"/usr/lib/python3.7/inspect.py\", line 709, in getabsfile\n",
            "    return os.path.normcase(os.path.abspath(_filename))\n",
            "  File \"/usr/lib/python3.7/posixpath.py\", line 383, in abspath\n",
            "    cwd = os.getcwd()\n",
            "FileNotFoundError: [Errno 2] No such file or directory\n"
          ]
        },
        {
          "output_type": "error",
          "ename": "KeyboardInterrupt",
          "evalue": "ignored",
          "traceback": [
            "\u001b[0;31m---------------------------------------------------------------------------\u001b[0m"
          ]
        }
      ],
      "source": [
        "import time\n",
        "import math\n",
        "\n",
        "N_EPOCHS = 50\n",
        "\n",
        "best_valid_loss = float('inf')\n",
        "\n",
        "def epoch_time(start_time, end_time):\n",
        "    elapsed_time = end_time - start_time\n",
        "    elapsed_mins = int(elapsed_time / 60)\n",
        "    elapsed_secs = int(elapsed_time - (elapsed_mins * 60))\n",
        "    return elapsed_mins, elapsed_secs\n",
        "\n",
        "for epoch in range(N_EPOCHS):\n",
        "    \n",
        "    start_time = time.time()\n",
        "    \n",
        "    train_loss = train_model(dataloader = train_dataloader)\n",
        "    valid_loss = eval_model(dataloader = val_dataloader)\n",
        "    \n",
        "    end_time = time.time()\n",
        "    \n",
        "    epoch_mins, epoch_secs = epoch_time(start_time, end_time)\n",
        "    \n",
        "    if valid_loss < best_valid_loss:\n",
        "        best_valid_loss = valid_loss\n",
        "        torch.save(model.state_dict(), '/content/translation_model_epoch_{}.pt'.format(epoch))\n",
        "    \n",
        "    print(f'Epoch: {epoch+1:02} | Time: {epoch_mins}m {epoch_secs}s')\n",
        "    print(f'\\tTrain Loss: {train_loss:.3f} | Train PPL: {math.exp(train_loss):7.3f}')\n",
        "    print(f'\\t Val. Loss: {valid_loss:.3f} |  Val. PPL: {math.exp(valid_loss):7.3f}')"
      ]
    },
    {
      "cell_type": "code",
      "source": [
        "# from google.colab import drive\n",
        "# drive.mount('/content/drive')"
      ],
      "metadata": {
        "id": "3Qtj9pQEprKi"
      },
      "execution_count": null,
      "outputs": []
    },
    {
      "cell_type": "code",
      "source": [
        "model.load_state_dict(torch.load('/content/translation_model_epoch_7.pt',map_location=torch.device('cpu')))\n",
        "\n",
        "def translate(dataloader):\n",
        "   model.eval()\n",
        "   translations=[]\n",
        "   for i, (src_batch, target_batch) in enumerate(dataloader):\n",
        "        x = model(src_batch, target_batch, 0)\n",
        "        batch_size = x.size()[1]\n",
        "        #x = .view(-1, batch_size, len(fr_vocab))\n",
        "        src_batch = src_batch[1:-1].permute(1,0)\n",
        "        target_batch = target_batch[1:-1].permute(1,0)\n",
        "        prediction_word = x[1:-1].argmax(dim=2).permute(1,0)\n",
        "        preds = []\n",
        "        for i in range(prediction_word.shape[0]):\n",
        "          output = prediction_word[i,:]\n",
        "          input = src_batch[i,:]\n",
        "          target = target_batch[i,:]\n",
        "          input = [en_vocab.vocab.get_itos()[item] for item in input]\n",
        "          output = [fr_vocab.vocab.get_itos()[item] for item in output]\n",
        "          target = [fr_vocab.vocab.get_itos()[item] for item in target]\n",
        "          output = output[: output.index('<eos>')] if '<eos>' in output else output\n",
        "          input = input[: input.index('<eos>')] if '<eos>' in input else input\n",
        "          target = target[: target.index('<eos>')] if '<eos>' in target else target\n",
        "          translations.append((\" \".join(input), \" \".join(output) ,\" \".join(target)))\n",
        "          #print((\" \".join(input), \" \".join(output) ,\" \".join(target)))\n",
        "   return translations \n",
        "\n",
        "translations = translate(test_dataloader)"
      ],
      "metadata": {
        "id": "mT1ykRiTxAtb",
        "colab": {
          "base_uri": "https://localhost:8080/"
        },
        "outputId": "9b839a91-cddc-4902-f777-19c82372ebb9"
      },
      "execution_count": 23,
      "outputs": [
        {
          "output_type": "stream",
          "name": "stderr",
          "text": [
            "/usr/local/lib/python3.7/dist-packages/ipykernel_launcher.py:6: UserWarning: To copy construct from a tensor, it is recommended to use sourceTensor.clone().detach() or sourceTensor.clone().detach().requires_grad_(True), rather than torch.tensor(sourceTensor).\n",
            "  \n",
            "/usr/local/lib/python3.7/dist-packages/ipykernel_launcher.py:7: UserWarning: To copy construct from a tensor, it is recommended to use sourceTensor.clone().detach() or sourceTensor.clone().detach().requires_grad_(True), rather than torch.tensor(sourceTensor).\n",
            "  import sys\n"
          ]
        }
      ]
    },
    {
      "cell_type": "code",
      "source": [
        "from torchtext.data.metrics import bleu_score\n",
        "bleu_score([x[1].split(\" \") for x in translations], [[x[2].split(\" \")] for x in translations])"
      ],
      "metadata": {
        "id": "DSfceQRNxLGU",
        "colab": {
          "base_uri": "https://localhost:8080/"
        },
        "outputId": "2def8df9-c9d1-4d1a-8800-8ed1e9a0de5e"
      },
      "execution_count": 24,
      "outputs": [
        {
          "output_type": "execute_result",
          "data": {
            "text/plain": [
              "0.2948518090110107"
            ]
          },
          "metadata": {},
          "execution_count": 24
        }
      ]
    }
  ],
  "metadata": {
    "colab": {
      "collapsed_sections": [],
      "provenance": [],
      "authorship_tag": "ABX9TyM/qliLeY4kHf8W66bMPujg",
      "include_colab_link": true
    },
    "kernelspec": {
      "display_name": "Python 3",
      "name": "python3"
    },
    "language_info": {
      "name": "python"
    }
  },
  "nbformat": 4,
  "nbformat_minor": 0
}